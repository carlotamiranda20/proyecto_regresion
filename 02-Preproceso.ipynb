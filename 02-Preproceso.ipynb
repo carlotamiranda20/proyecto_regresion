{
 "cells": [
  {
   "cell_type": "markdown",
   "metadata": {},
   "source": [
    "## Importación de librerías"
   ]
  },
  {
   "cell_type": "code",
   "execution_count": 1,
   "metadata": {},
   "outputs": [],
   "source": [
    "# Manipulación de datos\n",
    "import numpy as np\n",
    "import pandas as pd\n",
    "import math\n",
    "\n",
    "# Estadística y normalización\n",
    "from scipy.stats import zscore\n",
    "from sklearn.preprocessing import MinMaxScaler, OneHotEncoder, LabelEncoder\n",
    "from category_encoders import TargetEncoder\n",
    "\n",
    "# Visualización\n",
    "import matplotlib.pyplot as plt\n",
    "import seaborn as sns"
   ]
  },
  {
   "cell_type": "markdown",
   "metadata": {},
   "source": [
    "## Carga de datos"
   ]
  },
  {
   "cell_type": "code",
   "execution_count": 2,
   "metadata": {},
   "outputs": [
    {
     "data": {
      "text/html": [
       "<div>\n",
       "<style scoped>\n",
       "    .dataframe tbody tr th:only-of-type {\n",
       "        vertical-align: middle;\n",
       "    }\n",
       "\n",
       "    .dataframe tbody tr th {\n",
       "        vertical-align: top;\n",
       "    }\n",
       "\n",
       "    .dataframe thead th {\n",
       "        text-align: right;\n",
       "    }\n",
       "</style>\n",
       "<table border=\"1\" class=\"dataframe\">\n",
       "  <thead>\n",
       "    <tr style=\"text-align: right;\">\n",
       "      <th></th>\n",
       "      <th>Education</th>\n",
       "      <th>EducationField</th>\n",
       "      <th>Gender</th>\n",
       "      <th>MaritalStatus</th>\n",
       "      <th>Age</th>\n",
       "      <th>YearsSinceLastPromotion</th>\n",
       "      <th>YearsWithCurrManager</th>\n",
       "      <th>TotalWorkingYears</th>\n",
       "      <th>NumCompaniesWorked</th>\n",
       "      <th>Country</th>\n",
       "      <th>...</th>\n",
       "      <th>JobLevel</th>\n",
       "      <th>JobRole</th>\n",
       "      <th>MonthlyIncome</th>\n",
       "      <th>OverTime</th>\n",
       "      <th>PercentSalaryHike</th>\n",
       "      <th>TrainingTimesLastYear</th>\n",
       "      <th>EnvironmentSatisfaction</th>\n",
       "      <th>JobInvolvement</th>\n",
       "      <th>JobSatisfaction</th>\n",
       "      <th>RelationshipSatisfaction</th>\n",
       "    </tr>\n",
       "  </thead>\n",
       "  <tbody>\n",
       "    <tr>\n",
       "      <th>0</th>\n",
       "      <td>Bachelor</td>\n",
       "      <td>Other</td>\n",
       "      <td>Male</td>\n",
       "      <td>Single</td>\n",
       "      <td>19</td>\n",
       "      <td>0</td>\n",
       "      <td>0</td>\n",
       "      <td>1</td>\n",
       "      <td>1.0</td>\n",
       "      <td>Austria</td>\n",
       "      <td>...</td>\n",
       "      <td>1</td>\n",
       "      <td>Sales Representative</td>\n",
       "      <td>2121</td>\n",
       "      <td>Yes</td>\n",
       "      <td>13</td>\n",
       "      <td>3</td>\n",
       "      <td>Very High</td>\n",
       "      <td>Medium</td>\n",
       "      <td>Medium</td>\n",
       "      <td>Medium</td>\n",
       "    </tr>\n",
       "    <tr>\n",
       "      <th>1</th>\n",
       "      <td>College</td>\n",
       "      <td>Technical Degree</td>\n",
       "      <td>Female</td>\n",
       "      <td>Married</td>\n",
       "      <td>30</td>\n",
       "      <td>0</td>\n",
       "      <td>0</td>\n",
       "      <td>4</td>\n",
       "      <td>7.0</td>\n",
       "      <td>España</td>\n",
       "      <td>...</td>\n",
       "      <td>2</td>\n",
       "      <td>Sales Executive</td>\n",
       "      <td>4736</td>\n",
       "      <td>Yes</td>\n",
       "      <td>12</td>\n",
       "      <td>2</td>\n",
       "      <td>Very High</td>\n",
       "      <td>High</td>\n",
       "      <td>High</td>\n",
       "      <td>Medium</td>\n",
       "    </tr>\n",
       "    <tr>\n",
       "      <th>2</th>\n",
       "      <td>College</td>\n",
       "      <td>Life Sciences</td>\n",
       "      <td>Male</td>\n",
       "      <td>Single</td>\n",
       "      <td>22</td>\n",
       "      <td>0</td>\n",
       "      <td>0</td>\n",
       "      <td>4</td>\n",
       "      <td>0.0</td>\n",
       "      <td>República Checa</td>\n",
       "      <td>...</td>\n",
       "      <td>1</td>\n",
       "      <td>Research Scientist</td>\n",
       "      <td>3375</td>\n",
       "      <td>No</td>\n",
       "      <td>12</td>\n",
       "      <td>2</td>\n",
       "      <td>Very High</td>\n",
       "      <td>High</td>\n",
       "      <td>High</td>\n",
       "      <td>Very High</td>\n",
       "    </tr>\n",
       "    <tr>\n",
       "      <th>3</th>\n",
       "      <td>College</td>\n",
       "      <td>Technical Degree</td>\n",
       "      <td>Male</td>\n",
       "      <td>Married</td>\n",
       "      <td>42</td>\n",
       "      <td>1</td>\n",
       "      <td>5</td>\n",
       "      <td>22</td>\n",
       "      <td>1.0</td>\n",
       "      <td>Misisipi</td>\n",
       "      <td>...</td>\n",
       "      <td>5</td>\n",
       "      <td>Manager</td>\n",
       "      <td>19232</td>\n",
       "      <td>No</td>\n",
       "      <td>11</td>\n",
       "      <td>3</td>\n",
       "      <td>High</td>\n",
       "      <td>High</td>\n",
       "      <td>Very High</td>\n",
       "      <td>Very High</td>\n",
       "    </tr>\n",
       "    <tr>\n",
       "      <th>4</th>\n",
       "      <td>Master</td>\n",
       "      <td>Life Sciences</td>\n",
       "      <td>Female</td>\n",
       "      <td>Single</td>\n",
       "      <td>36</td>\n",
       "      <td>0</td>\n",
       "      <td>7</td>\n",
       "      <td>17</td>\n",
       "      <td>3.0</td>\n",
       "      <td>Portugal</td>\n",
       "      <td>...</td>\n",
       "      <td>2</td>\n",
       "      <td>Sales Representative</td>\n",
       "      <td>4502</td>\n",
       "      <td>No</td>\n",
       "      <td>15</td>\n",
       "      <td>2</td>\n",
       "      <td>High</td>\n",
       "      <td>High</td>\n",
       "      <td>Very High</td>\n",
       "      <td>High</td>\n",
       "    </tr>\n",
       "  </tbody>\n",
       "</table>\n",
       "<p>5 rows × 23 columns</p>\n",
       "</div>"
      ],
      "text/plain": [
       "  Education    EducationField  Gender MaritalStatus  Age  \\\n",
       "0  Bachelor             Other    Male        Single   19   \n",
       "1   College  Technical Degree  Female       Married   30   \n",
       "2   College     Life Sciences    Male        Single   22   \n",
       "3   College  Technical Degree    Male       Married   42   \n",
       "4    Master     Life Sciences  Female        Single   36   \n",
       "\n",
       "   YearsSinceLastPromotion  YearsWithCurrManager  TotalWorkingYears  \\\n",
       "0                        0                     0                  1   \n",
       "1                        0                     0                  4   \n",
       "2                        0                     0                  4   \n",
       "3                        1                     5                 22   \n",
       "4                        0                     7                 17   \n",
       "\n",
       "   NumCompaniesWorked          Country  ... JobLevel               JobRole  \\\n",
       "0                 1.0          Austria  ...        1  Sales Representative   \n",
       "1                 7.0           España  ...        2       Sales Executive   \n",
       "2                 0.0  República Checa  ...        1    Research Scientist   \n",
       "3                 1.0         Misisipi  ...        5               Manager   \n",
       "4                 3.0         Portugal  ...        2  Sales Representative   \n",
       "\n",
       "  MonthlyIncome  OverTime PercentSalaryHike  TrainingTimesLastYear  \\\n",
       "0          2121       Yes                13                      3   \n",
       "1          4736       Yes                12                      2   \n",
       "2          3375        No                12                      2   \n",
       "3         19232        No                11                      3   \n",
       "4          4502        No                15                      2   \n",
       "\n",
       "  EnvironmentSatisfaction  JobInvolvement  JobSatisfaction  \\\n",
       "0               Very High          Medium           Medium   \n",
       "1               Very High            High             High   \n",
       "2               Very High            High             High   \n",
       "3                    High            High        Very High   \n",
       "4                    High            High        Very High   \n",
       "\n",
       "  RelationshipSatisfaction  \n",
       "0                   Medium  \n",
       "1                   Medium  \n",
       "2                Very High  \n",
       "3                Very High  \n",
       "4                     High  \n",
       "\n",
       "[5 rows x 23 columns]"
      ]
     },
     "execution_count": 2,
     "metadata": {},
     "output_type": "execute_result"
    }
   ],
   "source": [
    "df = pd.read_csv('HR_Employee_Attrition_EDA.csv', index_col=0)\n",
    "\n",
    "df.head()"
   ]
  },
  {
   "cell_type": "markdown",
   "metadata": {},
   "source": [
    "## Gestión de nulos"
   ]
  },
  {
   "cell_type": "code",
   "execution_count": 6,
   "metadata": {},
   "outputs": [
    {
     "data": {
      "text/plain": [
       "Education                   210\n",
       "NumCompaniesWorked           16\n",
       "BusinessTravel              147\n",
       "JobSatisfaction             191\n",
       "RelationshipSatisfaction     31\n",
       "dtype: int64"
      ]
     },
     "execution_count": 6,
     "metadata": {},
     "output_type": "execute_result"
    }
   ],
   "source": [
    "# Identificación de valores nulos en el DataFrame\n",
    "cantidad_nulos = df.isna().sum()  # Suma valores nulos por columna\n",
    "cantidad_nulos = cantidad_nulos[cantidad_nulos != 0]  # Filtra solo columnas con valores nulos\n",
    "\n",
    "cantidad_nulos  # Muestra el resultado"
   ]
  },
  {
   "cell_type": "code",
   "execution_count": 10,
   "metadata": {},
   "outputs": [
    {
     "data": {
      "text/plain": [
       "Education\n",
       "Bachelor         479\n",
       "Master           353\n",
       "College          243\n",
       "Below College    142\n",
       "Doctor            43\n",
       "Name: count, dtype: int64"
      ]
     },
     "metadata": {},
     "output_type": "display_data"
    },
    {
     "data": {
      "text/plain": [
       "BusinessTravel\n",
       "Travel_Rarely        941\n",
       "Travel_Frequently    250\n",
       "Non-Travel           132\n",
       "Name: count, dtype: int64"
      ]
     },
     "metadata": {},
     "output_type": "display_data"
    },
    {
     "data": {
      "text/plain": [
       "JobSatisfaction\n",
       "Very High    400\n",
       "High         381\n",
       "Low          257\n",
       "Medium       241\n",
       "Name: count, dtype: int64"
      ]
     },
     "metadata": {},
     "output_type": "display_data"
    },
    {
     "data": {
      "text/plain": [
       "RelationshipSatisfaction\n",
       "High         450\n",
       "Very High    423\n",
       "Medium       297\n",
       "Low          269\n",
       "Name: count, dtype: int64"
      ]
     },
     "metadata": {},
     "output_type": "display_data"
    }
   ],
   "source": [
    "# Análisis de valores únicos en columnas categóricas con valores nulos\n",
    "for col in cantidad_nulos.index.to_list():\n",
    "    if col in df.select_dtypes(include='object'):\n",
    "        display(df[col].value_counts())"
   ]
  },
  {
   "cell_type": "markdown",
   "metadata": {},
   "source": [
    "### Imputación de nulos\n",
    "\n",
    "Para las columnas categóricas (como nivel educativo, viajes de negocios y medidas de satisfacción), se utiliza el valor genérico \"Unknown\" para reemplazar los valores nulos.\n",
    "Para la columna numérica `NumCompaniesWorked`, se utiliza la mediana como medida de tendencia central para reemplazar los valores faltantes.\n",
    "\n",
    "Esta estrategia de imputación preserva la integridad del conjunto de datos mientras proporciona un tratamiento apropiado según el tipo de variable, evitando la eliminación de filas con información parcialmente completa."
   ]
  },
  {
   "cell_type": "code",
   "execution_count": 11,
   "metadata": {},
   "outputs": [],
   "source": [
    "# Valor desconocido\n",
    "val = 'Unknown'\n",
    "\n",
    "# Columnas categoricas\n",
    "cols_cat = ['Education', 'BusinessTravel', 'JobSatisfaction', 'RelationshipSatisfaction']\n",
    "\n",
    "# Imputación de valores categóricos con un valor desconocido\n",
    "df[cols_cat] = df[cols_cat].fillna(val)\n",
    "\n",
    "# Imputación de valores numéricos con la mediana\n",
    "df['NumCompaniesWorked'] = df['NumCompaniesWorked'].fillna(df['NumCompaniesWorked'].median())"
   ]
  },
  {
   "cell_type": "code",
   "execution_count": 15,
   "metadata": {},
   "outputs": [
    {
     "data": {
      "text/plain": [
       "np.int64(0)"
      ]
     },
     "execution_count": 15,
     "metadata": {},
     "output_type": "execute_result"
    }
   ],
   "source": [
    "# Comprobación de nulos\n",
    "df.isna().sum().sum()"
   ]
  },
  {
   "cell_type": "markdown",
   "metadata": {},
   "source": [
    "## Gestión outliers"
   ]
  },
  {
   "cell_type": "markdown",
   "metadata": {},
   "source": [
    "### Identificación de outliers mediante boxplot"
   ]
  },
  {
   "cell_type": "code",
   "execution_count": 21,
   "metadata": {},
   "outputs": [
    {
     "data": {
      "image/png": "[encoded data removed]",
      "text/plain": [
       "<Figure size 1000x750 with 9 Axes>"
      ]
     },
     "metadata": {},
     "output_type": "display_data"
    }
   ],
   "source": [
    "# Visualización de outliers en variables numéricas mediante diagramas de caja\n",
    "\n",
    "# Seleccionar solo columnas numéricas del DataFrame\n",
    "df_num = df.select_dtypes(include=np.number)\n",
    "cols_num = df_num.columns\n",
    "\n",
    "# Calcular el número de gráficos y filas necesarias\n",
    "n_plots = len(cols_num)\n",
    "num_rows = math.ceil(n_plots / 2)  # Se distribuyen en 2 columnas\n",
    "\n",
    "# Ajustar dinámicamente el tamaño de la figura\n",
    "width = 5 * 2\n",
    "height = 1.5 * num_rows\n",
    "size = (width, height)\n",
    "\n",
    "# Crear la estructura de subplots\n",
    "fig, axes = plt.subplots(nrows=num_rows, ncols=2, figsize=size)\n",
    "axes = axes.flat  # Convertir matriz de ejes a lista plana\n",
    "\n",
    "# Crear un boxplot para cada variable numérica\n",
    "for i, col in enumerate(cols_num):\n",
    "   sns.boxplot(\n",
    "       x=col,\n",
    "       data=df_num,\n",
    "       ax=axes[i]\n",
    "   )\n",
    "\n",
    "   axes[i].set_title(f'{col} outliers')\n",
    "   axes[i].set_xlabel('')  # Eliminar etiqueta del eje x para mayor claridad\n",
    "\n",
    "# Eliminar el último gráfico si sobra un espacio vacío\n",
    "if n_plots % 2 != 0:\n",
    "   fig.delaxes(axes[-1])\n",
    "\n",
    "# Ajustar el layout y mostrar la figura\n",
    "plt.tight_layout()\n",
    "plt.show()\n"
   ]
  },
  {
   "cell_type": "markdown",
   "metadata": {},
   "source": [
    "### Detección de outliers mediante el método IQR"
   ]
  },
  {
   "cell_type": "code",
   "execution_count": 22,
   "metadata": {},
   "outputs": [],
   "source": [
    "# Diccionario para almacenar los outliers detectados en cada columna\n",
    "outliers_dict_iqr = {}\n",
    "\n",
    "# Iterar sobre cada columna numérica\n",
    "for col in df_num.columns:\n",
    "   # Calcular los cuartiles Q1 y Q3\n",
    "   Q1 = df_num[col].quantile(0.25)\n",
    "   Q3 = df_num[col].quantile(0.75)\n",
    "   IQR = Q3 - Q1  # Calcular el rango intercuartil\n",
    "\n",
    "   # Definir los límites para detectar outliers (método de la valla)\n",
    "   lower_bound = Q1 - 1.5 * IQR\n",
    "   upper_bound = Q3 + 1.5 * IQR\n",
    "\n",
    "   # Filtrar los outliers en la columna actual\n",
    "   outliers = df_num[(df_num[col] < lower_bound) | (df_num[col] > upper_bound)]\n",
    "   \n",
    "   # Almacenar los outliers en el diccionario\n",
    "   outliers_dict_iqr[col] = outliers"
   ]
  },
  {
   "cell_type": "code",
   "execution_count": 19,
   "metadata": {},
   "outputs": [
    {
     "data": {
      "text/html": [
       "<div>\n",
       "<style scoped>\n",
       "    .dataframe tbody tr th:only-of-type {\n",
       "        vertical-align: middle;\n",
       "    }\n",
       "\n",
       "    .dataframe tbody tr th {\n",
       "        vertical-align: top;\n",
       "    }\n",
       "\n",
       "    .dataframe thead th {\n",
       "        text-align: right;\n",
       "    }\n",
       "</style>\n",
       "<table border=\"1\" class=\"dataframe\">\n",
       "  <thead>\n",
       "    <tr style=\"text-align: right;\">\n",
       "      <th></th>\n",
       "      <th>Age</th>\n",
       "      <th>YearsSinceLastPromotion</th>\n",
       "      <th>YearsWithCurrManager</th>\n",
       "      <th>TotalWorkingYears</th>\n",
       "      <th>NumCompaniesWorked</th>\n",
       "      <th>JobLevel</th>\n",
       "      <th>MonthlyIncome</th>\n",
       "      <th>PercentSalaryHike</th>\n",
       "      <th>TrainingTimesLastYear</th>\n",
       "    </tr>\n",
       "  </thead>\n",
       "  <tbody>\n",
       "    <tr>\n",
       "      <th>22</th>\n",
       "      <td>58</td>\n",
       "      <td>9</td>\n",
       "      <td>1</td>\n",
       "      <td>40</td>\n",
       "      <td>7.0</td>\n",
       "      <td>5</td>\n",
       "      <td>19246</td>\n",
       "      <td>12</td>\n",
       "      <td>2</td>\n",
       "    </tr>\n",
       "    <tr>\n",
       "      <th>23</th>\n",
       "      <td>44</td>\n",
       "      <td>3</td>\n",
       "      <td>6</td>\n",
       "      <td>23</td>\n",
       "      <td>3.0</td>\n",
       "      <td>4</td>\n",
       "      <td>13320</td>\n",
       "      <td>18</td>\n",
       "      <td>2</td>\n",
       "    </tr>\n",
       "    <tr>\n",
       "      <th>26</th>\n",
       "      <td>52</td>\n",
       "      <td>9</td>\n",
       "      <td>2</td>\n",
       "      <td>34</td>\n",
       "      <td>0.0</td>\n",
       "      <td>5</td>\n",
       "      <td>19999</td>\n",
       "      <td>14</td>\n",
       "      <td>5</td>\n",
       "    </tr>\n",
       "    <tr>\n",
       "      <th>31</th>\n",
       "      <td>52</td>\n",
       "      <td>4</td>\n",
       "      <td>2</td>\n",
       "      <td>33</td>\n",
       "      <td>1.0</td>\n",
       "      <td>5</td>\n",
       "      <td>19845</td>\n",
       "      <td>15</td>\n",
       "      <td>3</td>\n",
       "    </tr>\n",
       "    <tr>\n",
       "      <th>47</th>\n",
       "      <td>39</td>\n",
       "      <td>4</td>\n",
       "      <td>3</td>\n",
       "      <td>17</td>\n",
       "      <td>4.0</td>\n",
       "      <td>2</td>\n",
       "      <td>5902</td>\n",
       "      <td>14</td>\n",
       "      <td>1</td>\n",
       "    </tr>\n",
       "    <tr>\n",
       "      <th>...</th>\n",
       "      <td>...</td>\n",
       "      <td>...</td>\n",
       "      <td>...</td>\n",
       "      <td>...</td>\n",
       "      <td>...</td>\n",
       "      <td>...</td>\n",
       "      <td>...</td>\n",
       "      <td>...</td>\n",
       "      <td>...</td>\n",
       "    </tr>\n",
       "    <tr>\n",
       "      <th>1433</th>\n",
       "      <td>30</td>\n",
       "      <td>4</td>\n",
       "      <td>2</td>\n",
       "      <td>6</td>\n",
       "      <td>0.0</td>\n",
       "      <td>2</td>\n",
       "      <td>6577</td>\n",
       "      <td>11</td>\n",
       "      <td>6</td>\n",
       "    </tr>\n",
       "    <tr>\n",
       "      <th>1443</th>\n",
       "      <td>40</td>\n",
       "      <td>6</td>\n",
       "      <td>0</td>\n",
       "      <td>9</td>\n",
       "      <td>1.0</td>\n",
       "      <td>2</td>\n",
       "      <td>4661</td>\n",
       "      <td>13</td>\n",
       "      <td>4</td>\n",
       "    </tr>\n",
       "    <tr>\n",
       "      <th>1449</th>\n",
       "      <td>30</td>\n",
       "      <td>6</td>\n",
       "      <td>3</td>\n",
       "      <td>12</td>\n",
       "      <td>0.0</td>\n",
       "      <td>1</td>\n",
       "      <td>2564</td>\n",
       "      <td>14</td>\n",
       "      <td>2</td>\n",
       "    </tr>\n",
       "    <tr>\n",
       "      <th>1465</th>\n",
       "      <td>30</td>\n",
       "      <td>3</td>\n",
       "      <td>6</td>\n",
       "      <td>12</td>\n",
       "      <td>1.0</td>\n",
       "      <td>2</td>\n",
       "      <td>4011</td>\n",
       "      <td>23</td>\n",
       "      <td>2</td>\n",
       "    </tr>\n",
       "    <tr>\n",
       "      <th>1466</th>\n",
       "      <td>39</td>\n",
       "      <td>13</td>\n",
       "      <td>0</td>\n",
       "      <td>21</td>\n",
       "      <td>1.0</td>\n",
       "      <td>5</td>\n",
       "      <td>19272</td>\n",
       "      <td>15</td>\n",
       "      <td>2</td>\n",
       "    </tr>\n",
       "  </tbody>\n",
       "</table>\n",
       "<p>188 rows × 9 columns</p>\n",
       "</div>"
      ],
      "text/plain": [
       "      Age  YearsSinceLastPromotion  YearsWithCurrManager  TotalWorkingYears  \\\n",
       "22     58                        9                     1                 40   \n",
       "23     44                        3                     6                 23   \n",
       "26     52                        9                     2                 34   \n",
       "31     52                        4                     2                 33   \n",
       "47     39                        4                     3                 17   \n",
       "...   ...                      ...                   ...                ...   \n",
       "1433   30                        4                     2                  6   \n",
       "1443   40                        6                     0                  9   \n",
       "1449   30                        6                     3                 12   \n",
       "1465   30                        3                     6                 12   \n",
       "1466   39                       13                     0                 21   \n",
       "\n",
       "      NumCompaniesWorked  JobLevel  MonthlyIncome  PercentSalaryHike  \\\n",
       "22                   7.0         5          19246                 12   \n",
       "23                   3.0         4          13320                 18   \n",
       "26                   0.0         5          19999                 14   \n",
       "31                   1.0         5          19845                 15   \n",
       "47                   4.0         2           5902                 14   \n",
       "...                  ...       ...            ...                ...   \n",
       "1433                 0.0         2           6577                 11   \n",
       "1443                 1.0         2           4661                 13   \n",
       "1449                 0.0         1           2564                 14   \n",
       "1465                 1.0         2           4011                 23   \n",
       "1466                 1.0         5          19272                 15   \n",
       "\n",
       "      TrainingTimesLastYear  \n",
       "22                        2  \n",
       "23                        2  \n",
       "26                        5  \n",
       "31                        3  \n",
       "47                        1  \n",
       "...                     ...  \n",
       "1433                      6  \n",
       "1443                      4  \n",
       "1449                      2  \n",
       "1465                      2  \n",
       "1466                      2  \n",
       "\n",
       "[188 rows x 9 columns]"
      ]
     },
     "execution_count": 19,
     "metadata": {},
     "output_type": "execute_result"
    }
   ],
   "source": [
    "outliers_dict_iqr['YearsSinceLastPromotion']"
   ]
  },
  {
   "cell_type": "markdown",
   "metadata": {},
   "source": [
    "### Detección de outliers mediante el método Z-score"
   ]
  },
  {
   "cell_type": "code",
   "execution_count": 23,
   "metadata": {},
   "outputs": [],
   "source": [
    "# Diccionario para almacenar los outliers detectados en cada columna\n",
    "outliers_dict_z = {}\n",
    "\n",
    "for col in df_num.columns:\n",
    "\n",
    "    # Filtrar los outliers usando |Z| > 3\n",
    "    outliers = df_num[np.abs(zscore(df_num[col])) > 3]\n",
    "\n",
    "    # Almacenar los outliers en el diccionario\n",
    "    outliers_dict_z[col] = outliers\n",
    "\n",
    "outliers_df = pd.concat(outliers_dict_z.values(), keys=outliers_dict_z.keys())\n"
   ]
  },
  {
   "cell_type": "code",
   "execution_count": 26,
   "metadata": {},
   "outputs": [
    {
     "data": {
      "text/plain": [
       "(46, 9)"
      ]
     },
     "execution_count": 26,
     "metadata": {},
     "output_type": "execute_result"
    }
   ],
   "source": [
    "outliers_dict_z['YearsSinceLastPromotion'].shape"
   ]
  },
  {
   "cell_type": "markdown",
   "metadata": {},
   "source": [
    "---"
   ]
  },
  {
   "cell_type": "markdown",
   "metadata": {},
   "source": [
    "## Para regresión\n",
    "\n",
    "La variable objetivo es `MonthlyIncome`"
   ]
  },
  {
   "cell_type": "code",
   "execution_count": 27,
   "metadata": {},
   "outputs": [],
   "source": [
    "# Hacemos una copia del DataFrame\n",
    "df_reg = df.copy()\n",
    "\n",
    "# Seleccionamos la variable objetivo\n",
    "tv = 'MonthlyIncome'"
   ]
  },
  {
   "cell_type": "markdown",
   "metadata": {},
   "source": [
    "### Codificación"
   ]
  },
  {
   "cell_type": "code",
   "execution_count": 28,
   "metadata": {},
   "outputs": [],
   "source": [
    "cat_cols = df_reg.select_dtypes(include='O').columns.to_list()"
   ]
  },
  {
   "cell_type": "code",
   "execution_count": 29,
   "metadata": {},
   "outputs": [
    {
     "data": {
      "text/plain": [
       "['Education',\n",
       " 'EducationField',\n",
       " 'Gender',\n",
       " 'MaritalStatus',\n",
       " 'Country',\n",
       " 'Attrition',\n",
       " 'BusinessTravel',\n",
       " 'Department',\n",
       " 'JobRole',\n",
       " 'OverTime',\n",
       " 'EnvironmentSatisfaction',\n",
       " 'JobInvolvement',\n",
       " 'JobSatisfaction',\n",
       " 'RelationshipSatisfaction']"
      ]
     },
     "execution_count": 29,
     "metadata": {},
     "output_type": "execute_result"
    }
   ],
   "source": [
    "cat_cols"
   ]
  },
  {
   "cell_type": "markdown",
   "metadata": {},
   "source": [
    "Selección de los métodos de codificación"
   ]
  },
  {
   "cell_type": "code",
   "execution_count": 33,
   "metadata": {},
   "outputs": [],
   "source": [
    "onehot_cols = ['Gender', 'MaritalStatus', 'OverTime', 'Attrition']\n",
    "target_cols = [x for x in cat_cols if x not in onehot_cols]"
   ]
  },
  {
   "cell_type": "markdown",
   "metadata": {},
   "source": [
    "`OneHotEncoding`"
   ]
  },
  {
   "cell_type": "code",
   "execution_count": 35,
   "metadata": {},
   "outputs": [],
   "source": [
    "# Codificación OneHot\n",
    "onehot_encoder = OneHotEncoder(drop=None, sparse_output=False, handle_unknown='ignore')\n",
    "onehot_encoded = onehot_encoder.fit_transform(df_reg[onehot_cols])\n",
    "onehot_feature_names = onehot_encoder.get_feature_names_out()\n",
    "df_onehot = pd.DataFrame(onehot_encoded, columns=onehot_feature_names, index=df_reg.index)\n",
    "\n",
    "# Concatenar con el DataFrame original y eliminar las columnas originales\n",
    "df_reg = pd.concat([df_reg.drop(columns=onehot_cols), df_onehot], axis=1)"
   ]
  },
  {
   "cell_type": "markdown",
   "metadata": {},
   "source": [
    "`TargetEncoding`"
   ]
  },
  {
   "cell_type": "code",
   "execution_count": 37,
   "metadata": {},
   "outputs": [],
   "source": [
    "# Codificación Target Encoding para algunas variables categóricas con category_encoders\n",
    "target_encoder = TargetEncoder(cols=target_cols)\n",
    "df_reg[target_cols] = target_encoder.fit_transform(df_reg[target_cols], df_reg[tv])"
   ]
  },
  {
   "cell_type": "markdown",
   "metadata": {},
   "source": [
    "### Escalado"
   ]
  },
  {
   "cell_type": "markdown",
   "metadata": {},
   "source": [
    "`MinMaxScaler`"
   ]
  },
  {
   "cell_type": "code",
   "execution_count": 39,
   "metadata": {},
   "outputs": [],
   "source": [
    "scaler = MinMaxScaler()\n",
    "df_reg[df_reg.drop(columns=[tv]).columns] = scaler.fit_transform(df_reg.drop(columns=[tv]))"
   ]
  },
  {
   "cell_type": "markdown",
   "metadata": {},
   "source": [
    "### Guardamos el dataframe preprocesado"
   ]
  },
  {
   "cell_type": "code",
   "execution_count": 42,
   "metadata": {},
   "outputs": [],
   "source": [
    "df_reg.to_csv('df_regresion.csv')"
   ]
  },
  {
   "cell_type": "markdown",
   "metadata": {},
   "source": [
    "---"
   ]
  },
  {
   "cell_type": "markdown",
   "metadata": {},
   "source": [
    "## Para clasificación\n",
    "\n",
    "La variable objetivo es `Attrition`"
   ]
  },
  {
   "cell_type": "code",
   "execution_count": 43,
   "metadata": {},
   "outputs": [],
   "source": [
    "# Hacemos una copia del DataFrame\n",
    "df_clas = df.copy()\n",
    "\n",
    "# Seleccionamos la variable objetivo\n",
    "tv = 'Attrition'"
   ]
  },
  {
   "cell_type": "markdown",
   "metadata": {},
   "source": [
    "### Codificación"
   ]
  },
  {
   "cell_type": "code",
   "execution_count": 44,
   "metadata": {},
   "outputs": [],
   "source": [
    "cat_cols = df_clas.select_dtypes(include='O').columns.to_list()"
   ]
  },
  {
   "cell_type": "markdown",
   "metadata": {},
   "source": [
    "Selección de los métodos de codificación"
   ]
  },
  {
   "cell_type": "code",
   "execution_count": 45,
   "metadata": {},
   "outputs": [],
   "source": [
    "onehot_cols = ['Gender', 'MaritalStatus', 'OverTime']\n",
    "\n",
    "target_cols = ['Education', 'Department', 'EducationField', 'JobRole', 'EnvironmentSatisfaction', 'JobInvolvement', \n",
    "              'JobSatisfaction', 'RelationshipSatisfaction']\n",
    "\n",
    "label_cols = ['EducationField', 'Country', 'BusinessTravel', 'Department']"
   ]
  },
  {
   "cell_type": "markdown",
   "metadata": {},
   "source": [
    "`OneHotEncoding`"
   ]
  },
  {
   "cell_type": "code",
   "execution_count": 46,
   "metadata": {},
   "outputs": [],
   "source": [
    "# Codificación OneHot\n",
    "onehot_encoder = OneHotEncoder(drop=None, sparse_output=False, handle_unknown='ignore')\n",
    "onehot_encoded = onehot_encoder.fit_transform(df_clas[onehot_cols])\n",
    "onehot_feature_names = onehot_encoder.get_feature_names_out()\n",
    "df_onehot = pd.DataFrame(onehot_encoded, columns=onehot_feature_names, index=df_clas.index)\n",
    "\n",
    "# Concatenar con el DataFrame original y eliminar las columnas originales\n",
    "df_clas = pd.concat([df_clas.drop(columns=onehot_cols), df_onehot], axis=1)"
   ]
  },
  {
   "cell_type": "markdown",
   "metadata": {},
   "source": [
    "Variable objetivo a la que hacer target encoding"
   ]
  },
  {
   "cell_type": "code",
   "execution_count": null,
   "metadata": {},
   "outputs": [],
   "source": [
    "# Convertir la variable objetivo a numérica\n",
    "df_clas['Attrition'] = df_clas['Attrition'].map({'Yes': 1, 'No': 0})"
   ]
  },
  {
   "cell_type": "markdown",
   "metadata": {},
   "source": [
    "`TargetEncoding`"
   ]
  },
  {
   "cell_type": "code",
   "execution_count": 48,
   "metadata": {},
   "outputs": [],
   "source": [
    "# Codificación Target Encoding para algunas variables categóricas con category_encoders\n",
    "target_encoder = TargetEncoder(cols=target_cols)\n",
    "df_clas[target_cols] = target_encoder.fit_transform(df_clas[target_cols], df_clas[tv])"
   ]
  },
  {
   "cell_type": "markdown",
   "metadata": {},
   "source": [
    "`LabelEncoding`"
   ]
  },
  {
   "cell_type": "code",
   "execution_count": 49,
   "metadata": {},
   "outputs": [],
   "source": [
    "# Para LabelEncoding necesitamos aplicarlo a las columnas de una en una\n",
    "df_clas[label_cols] = df_clas[label_cols].apply(lambda col: LabelEncoder().fit_transform(col))"
   ]
  },
  {
   "cell_type": "markdown",
   "metadata": {},
   "source": [
    "### Escalado"
   ]
  },
  {
   "cell_type": "markdown",
   "metadata": {},
   "source": [
    "`MinMaxScaler`"
   ]
  },
  {
   "cell_type": "code",
   "execution_count": 50,
   "metadata": {},
   "outputs": [],
   "source": [
    "scaler = MinMaxScaler()\n",
    "df_clas[df_clas.columns] = scaler.fit_transform(df_clas)"
   ]
  },
  {
   "cell_type": "markdown",
   "metadata": {},
   "source": [
    "### Guardamos el dataframe preprocesado"
   ]
  },
  {
   "cell_type": "code",
   "execution_count": 52,
   "metadata": {},
   "outputs": [],
   "source": [
    "df_clas.to_csv('df_clasificacion.csv')"
   ]
  }
 ],
 "metadata": {
  "kernelspec": {
   "display_name": "main_env",
   "language": "python",
   "name": "python3"
  },
  "language_info": {
   "codemirror_mode": {
    "name": "ipython",
    "version": 3
   },
   "file_extension": ".py",
   "mimetype": "text/x-python",
   "name": "python",
   "nbconvert_exporter": "python",
   "pygments_lexer": "ipython3",
   "version": "3.12.9"
  }
 },
 "nbformat": 4,
 "nbformat_minor": 2
}
